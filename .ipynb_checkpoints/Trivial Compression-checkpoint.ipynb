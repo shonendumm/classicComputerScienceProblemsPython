{
 "cells": [
  {
   "cell_type": "code",
   "execution_count": 111,
   "id": "e686f2d7",
   "metadata": {},
   "outputs": [],
   "source": [
    "class CompressedGene:\n",
    "    \n",
    "    def __init__(self, gene):\n",
    "        self._compress(gene)\n",
    "        \n",
    "    def _compress(self, gene):\n",
    "        self.bit_string = 1\n",
    "        for letter in gene.upper():\n",
    "            self.bit_string <<= 2 # shift 2 bits to the left to store letter\n",
    "            if letter == \"A\":\n",
    "                self.bit_string |= 0b00\n",
    "            elif letter == \"B\":\n",
    "                self.bit_string |= 0b01\n",
    "            elif letter == \"C\":\n",
    "                self.bit_string |= 0b10\n",
    "            elif letter == \"D\":\n",
    "                self.bit_string |= 0b11\n",
    "            else:\n",
    "                raise ValueError(\"Invalid letter: {}\".format(letter))\n",
    "    \n",
    "    def __str__(self):\n",
    "        return self.decompress()\n",
    "        \n",
    "    def printbin(self):\n",
    "        return bin(self.bit_string)\n",
    "        \n",
    "    def decompress(self):\n",
    "        res = ''\n",
    "        for i in range(0, self.bit_string.bit_length() - 1, 2): # jumps 2 bits at a time\n",
    "            bits = self.bit_string >> i & 0b11\n",
    "            if bits == 0b00:\n",
    "                res += \"A\"\n",
    "            elif bits == 0b01:\n",
    "                res += \"B\"\n",
    "            elif bits == 0b10:\n",
    "                res += \"C\"\n",
    "            elif bits == 0b11:\n",
    "                res += \"D\"    \n",
    "            else:\n",
    "                raise ValueError(\"Invalid bits: {}\".format(bits))\n",
    "        return res[::-1]\n",
    "              \n",
    "            "
   ]
  },
  {
   "cell_type": "code",
   "execution_count": 112,
   "id": "b8bd8061",
   "metadata": {},
   "outputs": [
    {
     "data": {
      "text/plain": [
       "'0b100100111110000101001011000'"
      ]
     },
     "execution_count": 112,
     "metadata": {},
     "output_type": "execute_result"
    }
   ],
   "source": [
    "word = 'ACBDDAACCBBCA'\n",
    "x = CompressedGene(word)\n",
    "x.printbin()"
   ]
  },
  {
   "cell_type": "code",
   "execution_count": 113,
   "id": "0ce08312",
   "metadata": {},
   "outputs": [
    {
     "name": "stdout",
     "output_type": "stream",
     "text": [
      "ACBDDAACCBBCA\n"
     ]
    }
   ],
   "source": [
    "print(x)"
   ]
  },
  {
   "cell_type": "code",
   "execution_count": 115,
   "id": "9d651fc2",
   "metadata": {},
   "outputs": [
    {
     "data": {
      "text/plain": [
       "True"
      ]
     },
     "execution_count": 115,
     "metadata": {},
     "output_type": "execute_result"
    }
   ],
   "source": [
    "x.decompress() == word"
   ]
  },
  {
   "cell_type": "code",
   "execution_count": 1,
   "id": "3d821e46",
   "metadata": {},
   "outputs": [
    {
     "name": "stdout",
     "output_type": "stream",
     "text": [
      "Initialized empty Git repository in /Users/soohian/Documents/Classic CS Problems/.git/\r\n"
     ]
    }
   ],
   "source": [
    "!git init"
   ]
  },
  {
   "cell_type": "code",
   "execution_count": 3,
   "id": "326d4af8",
   "metadata": {},
   "outputs": [],
   "source": [
    "!git remote add origin https://github.com/shonendumm/classicComputerScienceProblemsPython.git\n"
   ]
  },
  {
   "cell_type": "code",
   "execution_count": 11,
   "id": "80e995ff",
   "metadata": {},
   "outputs": [],
   "source": [
    "!git add ."
   ]
  },
  {
   "cell_type": "code",
   "execution_count": 12,
   "id": "5300e9b3",
   "metadata": {},
   "outputs": [
    {
     "name": "stdout",
     "output_type": "stream",
     "text": [
      "[master (root-commit) b362097] initial commit\r\n",
      " 3 files changed, 346 insertions(+)\r\n",
      " create mode 100644 .ipynb_checkpoints/Trivial Compression-checkpoint.ipynb\r\n",
      " create mode 100644 .jovianrc\r\n",
      " create mode 100644 Trivial Compression.ipynb\r\n"
     ]
    }
   ],
   "source": [
    "!git commit -m \"initial commit\""
   ]
  },
  {
   "cell_type": "code",
   "execution_count": 13,
   "id": "4ecf2531",
   "metadata": {},
   "outputs": [
    {
     "name": "stdout",
     "output_type": "stream",
     "text": [
      "Enumerating objects: 6, done.\n",
      "Counting objects: 100% (6/6), done.\n",
      "Delta compression using up to 8 threads\n",
      "Compressing objects: 100% (5/5), done.\n",
      "Writing objects: 100% (6/6), 1.67 KiB | 1.67 MiB/s, done.\n",
      "Total 6 (delta 1), reused 0 (delta 0), pack-reused 0\n",
      "remote: Resolving deltas: 100% (1/1), done.\u001b[K\n",
      "To https://github.com/shonendumm/classicComputerScienceProblemsPython.git\n",
      " * [new branch]      master -> master\n",
      "branch 'master' set up to track 'origin/master'.\n"
     ]
    }
   ],
   "source": [
    "!git push --set-upstream origin master"
   ]
  },
  {
   "cell_type": "code",
   "execution_count": 14,
   "id": "f314c846",
   "metadata": {},
   "outputs": [
    {
     "name": "stdout",
     "output_type": "stream",
     "text": [
      "Everything up-to-date\r\n"
     ]
    }
   ],
   "source": [
    "!git push"
   ]
  },
  {
   "cell_type": "code",
   "execution_count": null,
   "id": "164c57bb",
   "metadata": {},
   "outputs": [],
   "source": []
  }
 ],
 "metadata": {
  "kernelspec": {
   "display_name": "Python 3 (ipykernel)",
   "language": "python",
   "name": "python3"
  },
  "language_info": {
   "codemirror_mode": {
    "name": "ipython",
    "version": 3
   },
   "file_extension": ".py",
   "mimetype": "text/x-python",
   "name": "python",
   "nbconvert_exporter": "python",
   "pygments_lexer": "ipython3",
   "version": "3.9.12"
  }
 },
 "nbformat": 4,
 "nbformat_minor": 5
}
